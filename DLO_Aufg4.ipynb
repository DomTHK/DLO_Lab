{
  "nbformat": 4,
  "nbformat_minor": 0,
  "metadata": {
    "colab": {
      "name": "DLO_Aufg4.ipynb",
      "provenance": [],
      "collapsed_sections": [],
      "authorship_tag": "ABX9TyPCcCbVP9WkxqNDXz7m9et4",
      "include_colab_link": true
    },
    "kernelspec": {
      "name": "python3",
      "display_name": "Python 3"
    },
    "language_info": {
      "name": "python"
    },
    "accelerator": "GPU"
  },
  "cells": [
    {
      "cell_type": "markdown",
      "metadata": {
        "id": "view-in-github",
        "colab_type": "text"
      },
      "source": [
        "<a href=\"https://colab.research.google.com/github/DomTHK/DLO_Lab/blob/main/DLO_Aufg4.ipynb\" target=\"_parent\"><img src=\"https://colab.research.google.com/assets/colab-badge.svg\" alt=\"Open In Colab\"/></a>"
      ]
    },
    {
      "cell_type": "markdown",
      "source": [
        "#Aufgabe 4\n",
        "\n",
        "Gegeben sind die vier Punkte (1, 1), (3,4), (6, 2), (7, 3).\n",
        "* Wie lautet Ihre Fehlerfunktion L, die aussagt, wie sehr ein\n",
        "Polynom ˆy(x) = a0 + a1x + a2x\n",
        "2 + . . . + ad x\n",
        "d mit Grad d die\n",
        "Punkte verfehlt?\n",
        "* Wie sehen dann die partiellen Ableitungen nach a0, a1, usw.\n",
        "aus?\n",
        "* Nutzen Sie Gradientenabsteig, um Polynome verschiedenen\n",
        "Grades an die Punkte zu fitten\n",
        "* Achtung: Initialisierung der ai sowie Schrittweite η haben\n",
        "großen Einfluss!\n"
      ],
      "metadata": {
        "id": "ZfVpR_9_eADf"
      }
    },
    {
      "cell_type": "code",
      "execution_count": 1,
      "metadata": {
        "id": "ump8jdKYd8rA"
      },
      "outputs": [],
      "source": [
        "import numpy as np\n",
        "import pandas as pd\n",
        "import matplotlib.pyplot as plt\n",
        "import seaborn as sns\n",
        "%matplotlib inline"
      ]
    },
    {
      "cell_type": "code",
      "source": [
        "#was wird gemacht?\n",
        "# 0) Funktion auswählen [besser gesagt anzahl Polynome]\n",
        "# 1) 4 mal 'y_' für jedes der 4 'x' berechnen\n",
        "# 2) y_ mit y vergleichen, differenz berechnen, ableitung berechnen, a (=gewichtsvektor) anpassen\n",
        "# 3) Dies für alle gewünschten Polynomgrade wiederholen\n",
        "\n",
        "def calc_y(x, a, grades, k, i):                                                                                                                                                   \n",
        "    y = 0\n",
        "    for j in range(int(grades[i])+1): \n",
        "      y = y + a[i, j] * x[k]**j \n",
        "      #print(j)\n",
        "    return y\n",
        "\n",
        "def calc_y_(x, a, grades, k, i):                                      #für jedes der 4 'x' jeweils 'y_' berechnen und Gradientenabstieg durchführen                                                                                                              \n",
        "    y_ = 0\n",
        "    for j in range(int(grades[i])+1): y_ = y_ + a[i, j] * x[k, 0]**j  #calculate 'y' for the chosen 'x', based on function         \n",
        "    #print(a[i, j])\n",
        "    #print('y,ai,\\nxk:',i,  y_, a[i, :], x[k, 0])\n",
        "    return y_\n",
        "\n",
        "def perform_gd(y_, x, lr, a, i, k, grades):\n",
        "    L = y_ - x[k, 1]                                               #calculate loss based on calculated y\n",
        "    #print('before:', a[i,:])\n",
        "    for l in range(int(grades[i])+1): a[i, l] = a[i, l] - (lr/((10**l)*(1+l))) * L * x[k,0]**l    #perform gradient-descent \n",
        "    #print('after:', a[i,:])\n",
        "    return a\n",
        "\n",
        "def fit_polynom(x, grades, n_epochs, lr):\n",
        "    a = np.full((len(grades), np.max(grades)+1), 0.9)\n",
        "    #a = np.matrix([[0.1, 3, 3, 5/10, 5/100],\n",
        "    #               [0.1, 3, 3, 5/10, 5/100],\n",
        "    #               [0.1, 3, 3, 5/10, 5/100]])\n",
        "    for i in range(len(grades)):                                       #Eine Iteration steht für eine Funktion eines best. Grades \n",
        "        for e in range(n_epochs):                                      #über e Iterationen laufen lassen\n",
        "            for k in range(len(x)):                                    #change weights for one 'x' at a time\n",
        "                for h in range(len(grades)):\n",
        "                  y_ = 0\n",
        "                  y_ = calc_y_(x, a, grades, k, i)                       #Einmal die y-Werte der Funktion mit aktuellen a1..ad berechnen\n",
        "                  a = perform_gd(y_, x, lr, a, i, k, grades)\n",
        "        print(a)\n",
        "    return a                                                                                      \n",
        "          \n",
        "\n",
        "    \n",
        "         "
      ],
      "metadata": {
        "id": "W5lLJh2egaBW"
      },
      "execution_count": 109,
      "outputs": []
    },
    {
      "cell_type": "code",
      "source": [
        "b = np.matrix([[3.e-05, 3.e-05, 3.e-05, 3.e-05, 3.e-05],\n",
        " [3.e-05, 3.e-05, 3.e-05, 3.e-05, 3.e-05],\n",
        " [3.e-05, 3.e-05, 3.e-05, 3.e-05, 3.e-05]])\n",
        "\n",
        "print(np.mean(b))"
      ],
      "metadata": {
        "id": "u3yumC1Yl-wF",
        "colab": {
          "base_uri": "https://localhost:8080/"
        },
        "outputId": "53f77ac0-b428-46e0-eb5a-8f40884b6163"
      },
      "execution_count": 69,
      "outputs": [
        {
          "output_type": "stream",
          "name": "stdout",
          "text": [
            "3.000000000000001e-05\n"
          ]
        }
      ]
    },
    {
      "cell_type": "code",
      "source": [
        "#initializing\n",
        "x = np.array([[1, 1], \n",
        "              [3, 4], \n",
        "              [6, 2], \n",
        "              [7, 3]])\n",
        "grades = np.array([[3], [4], [5]])\n",
        "n_epochs = 100000\n",
        "lr = 0.0078\n",
        "\n",
        "#training\n",
        "a = fit_polynom(x, grades, n_epochs, lr)\n",
        "\n",
        "#plotting\n",
        "x_range = np.linspace(1, 8, num=100)\n",
        "y_ = np.full((100, 3), 0.0)\n",
        "\n",
        "for k in range(100):\n",
        "    for j in range(3): y_[k, j] = calc_y(x_range, a, grades, k, j)\n",
        "\n",
        "color = (['blue', 'green', 'yellow'])\n",
        "for h in range(3): plt.plot(x_range, y_[:, h], color = color[h]) \n",
        "plt.ylim(0, 5)\n",
        "plt.scatter(x[:,0], x[:,1], color='red')\n",
        "plt.show()\n"
      ],
      "metadata": {
        "colab": {
          "base_uri": "https://localhost:8080/",
          "height": 477
        },
        "id": "aRiEIfa6i_ts",
        "outputId": "fd413570-7d08-481a-8284-13b2e1f2dbb9"
      },
      "execution_count": 111,
      "outputs": [
        {
          "output_type": "stream",
          "name": "stdout",
          "text": [
            "[[-4.25174103  6.93835584 -1.81440986  0.1387278   0.9         0.9       ]\n",
            " [ 0.9         0.9         0.9         0.9         0.9         0.9       ]\n",
            " [ 0.9         0.9         0.9         0.9         0.9         0.9       ]]\n",
            "[[-4.25174103  6.93835584 -1.81440986  0.1387278   0.9         0.9       ]\n",
            " [-1.78927602  2.85142965  0.121351   -0.20382784  0.02032321  0.9       ]\n",
            " [ 0.9         0.9         0.9         0.9         0.9         0.9       ]]\n",
            "[[-4.25174103e+00  6.93835584e+00 -1.81440986e+00  1.38727800e-01\n",
            "   9.00000000e-01  9.00000000e-01]\n",
            " [-1.78927602e+00  2.85142965e+00  1.21351002e-01 -2.03827839e-01\n",
            "   2.03232062e-02  9.00000000e-01]\n",
            " [ 5.31963781e-01 -1.48840798e-01  5.72374084e-01  1.09020037e-01\n",
            "  -7.09710331e-02  6.45392808e-03]]\n"
          ]
        },
        {
          "output_type": "display_data",
          "data": {
            "text/plain": [
              "<Figure size 432x288 with 1 Axes>"
            ],
            "image/png": "[encoded data removed]"
          },
          "metadata": {
            "needs_background": "light"
          }
        }
      ]
    },
    {
      "cell_type": "code",
      "source": [
        ""
      ],
      "metadata": {
        "id": "ut8MvSzeQrxY"
      },
      "execution_count": null,
      "outputs": []
    }
  ]
}