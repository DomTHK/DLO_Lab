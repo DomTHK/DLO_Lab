{
  "nbformat": 4,
  "nbformat_minor": 0,
  "metadata": {
    "colab": {
      "name": "DLO_Aufg3",
      "provenance": [],
      "authorship_tag": "ABX9TyMPf1a3sk6sArytuPWTLitP",
      "include_colab_link": true
    },
    "kernelspec": {
      "name": "python3",
      "display_name": "Python 3"
    },
    "language_info": {
      "name": "python"
    },
    "accelerator": "GPU"
  },
  "cells": [
    {
      "cell_type": "markdown",
      "metadata": {
        "id": "view-in-github",
        "colab_type": "text"
      },
      "source": [
        "<a href=\"https://colab.research.google.com/github/DomTHK/DLO_Lab/blob/main/DLO_Aufg3.ipynb\" target=\"_parent\"><img src=\"https://colab.research.google.com/assets/colab-badge.svg\" alt=\"Open In Colab\"/></a>"
      ]
    },
    {
      "cell_type": "code",
      "execution_count": 1,
      "metadata": {
        "id": "2tpSPLF8Nwdr"
      },
      "outputs": [],
      "source": [
        "import numpy as np\n",
        "import pandas as pd\n",
        "import matplotlib.pyplot as plt\n",
        "import seaborn as sns\n",
        "%matplotlib inline"
      ]
    },
    {
      "cell_type": "code",
      "source": [
        "def create_data(rows, n, m):\n",
        "  X = np.round(np.random.rand(rows, n)*10+2.0)\n",
        "  w = np.zeros(n)\n",
        "  y = np.full((rows, 2),0.0)\n",
        "  for k in range(m): y[:,0] = y[:,0] + X[:,(k)]\n",
        "  for l in range(n): w[l] = np.mean(X[:,0+l])/2 \n",
        "  T = np.hstack((X,y))\n",
        "  T = np.delete(T, -1, 1)\n",
        "  #print('\\n x', X[:5],'\\n y', y[:5],'\\n w ', w[:5])\n",
        "  return (T, w)\n",
        "\n",
        "def prepare_mbatches(T):\n",
        "    T_mb = np.full((n_batches, B, n+1 ), 0.0)\n",
        "    for b in np.arange(n_batches):\n",
        "        d = 0 + b*B\n",
        "        e = B + b*B\n",
        "        T_mb[b] = T[d:e, :]\n",
        "    return T_mb\n",
        "\n",
        "def train_net(n_epochs, T, w, lr, m, n, B, rows, n_batches):\n",
        "    for e in np.arange(n_epochs):\n",
        "        T_cpy = T + 0.0\n",
        "        np.random.shuffle(T_cpy)\n",
        "        T_mb = prepare_mbatches(T_cpy)\n",
        "        for i in np.arange(n_batches):\n",
        "            g = np.zeros(n)\n",
        "            for j in range(B):\n",
        "                x = T_mb[i, j, :n]\n",
        "                y = T_mb[i, j, n]\n",
        "                y_= 0.0\n",
        "                for k in range(n): y_ = y_ + w[k]*x[k] \n",
        "                L = y_-y\n",
        "                g = g + L*x\n",
        "        w = w - lr*(1/B)*g \n",
        "    return w\n"
      ],
      "metadata": {
        "id": "zavMAnTDOBuI"
      },
      "execution_count": 34,
      "outputs": []
    },
    {
      "cell_type": "code",
      "source": [
        "#initialize data\n",
        "rows = 300 #number of x-vectors and number of labels y\n",
        "n = 20 #number of element per x-vector\n",
        "m = 10 #number of x-elements to be added in the x-vector [starting with index 0 counting]\n",
        "B = 20 #Mini-Batch size (numbers of rows to create mean for g to adjust w once at the end)\n",
        "lr = 0.002 #learning-rate\n",
        "n_epochs = 2000 #number of epochs\n",
        "n_batches = int(rows/B) #number of mini-batches (dependant of number of rows of X)\n",
        "\n",
        "#call function to create T and w\n",
        "T, w = create_data(rows, n, m)"
      ],
      "metadata": {
        "id": "GwPF7Vh5OBw6"
      },
      "execution_count": 35,
      "outputs": []
    },
    {
      "cell_type": "code",
      "source": [
        "#train\n",
        "w = train_net(n_epochs, T, w, lr, m, n, B, rows, n_batches)\n",
        "\n",
        "print(\"Value of w after training: \\n\", np.round(w, 8))"
      ],
      "metadata": {
        "colab": {
          "base_uri": "https://localhost:8080/"
        },
        "id": "nWwgll5i_uPg",
        "outputId": "6b0260de-1b34-4e9a-be53-13fe7e9aa0cf"
      },
      "execution_count": 36,
      "outputs": [
        {
          "output_type": "stream",
          "name": "stdout",
          "text": [
            "Value of w after training: \n",
            " [ 1.  1.  1.  1.  1.  1.  1.  1.  1.  1. -0. -0.  0.  0.  0.  0. -0.  0.\n",
            " -0. -0.]\n"
          ]
        }
      ]
    }
  ]
}