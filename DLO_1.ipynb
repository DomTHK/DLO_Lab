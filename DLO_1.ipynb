{
  "nbformat": 4,
  "nbformat_minor": 0,
  "metadata": {
    "colab": {
      "name": "DLO_1.ipynb",
      "provenance": [],
      "collapsed_sections": [],
      "authorship_tag": "ABX9TyO9UpQYShs05JVsPFUrVCzj",
      "include_colab_link": true
    },
    "kernelspec": {
      "name": "python3",
      "display_name": "Python 3"
    },
    "language_info": {
      "name": "python"
    },
    "accelerator": "GPU"
  },
  "cells": [
    {
      "cell_type": "markdown",
      "metadata": {
        "id": "view-in-github",
        "colab_type": "text"
      },
      "source": [
        "<a href=\"https://colab.research.google.com/github/DomTHK/DLO_Lab/blob/main/DLO_1.ipynb\" target=\"_parent\"><img src=\"https://colab.research.google.com/assets/colab-badge.svg\" alt=\"Open In Colab\"/></a>"
      ]
    },
    {
      "cell_type": "code",
      "execution_count": null,
      "metadata": {
        "colab": {
          "base_uri": "https://localhost:8080/"
        },
        "id": "HiGqjrJfwqSC",
        "outputId": "94f9c194-e7e3-421d-d5d1-fe1359e83637"
      },
      "outputs": [
        {
          "output_type": "stream",
          "name": "stdout",
          "text": [
            "Mounted at /content/drive\n"
          ]
        }
      ],
      "source": [
        "# Einbinden des eigenen Google-Drive\n",
        "## - CLM auf den erscheinenden Link\n",
        "# - Google-Koto auswaehlen\n",
        "# - Die Verwendung zulassen (ggf. ganz nach unten scrollen)\n",
        "# - Den angezeigten authorization code in die Zwischenablage kopieren\n",
        "# - Zurueck zu dieser Seite und den authorization cade in die umrandete Box aus der Zwischenablage einfuegen\n",
        "# - Die Eingabe mit RETURN abschliessen\n",
        "from google.colab import drive\n",
        "drive.mount('/content/drive')"
      ]
    },
    {
      "cell_type": "code",
      "source": [
        "BASEDIR='/content/drive/My Drive/Colab_Drive/ML_TH/'\n",
        "\n",
        "# Weitere vorausgesetzte Verzeichnisse anlegen\n",
        "import os\n",
        "if os.path.exists(BASEDIR + 'Data_Input'):\n",
        "  print(\"Das Verzeichnis  \"+BASEDIR+'Data_Input'+\"   existiert bereits\")\n",
        "else:\n",
        "  os.mkdir(BASEDIR + 'Data_Input')\n",
        "\n",
        "if os.path.exists(BASEDIR + 'Temp'):\n",
        "  print(\"Das Verzeichnis  \"+BASEDIR+'Temp'+\"   existiert bereits\")\n",
        "else:\n",
        "  os.mkdir(BASEDIR + 'Temp')\n",
        "\n",
        "# Die ML-Lib importieren. Diese muss im zuvor definierten BASEDIR stehen\n",
        "import os\n",
        "os.chdir(BASEDIR)\n",
        "import ML_Lib as ml"
      ],
      "metadata": {
        "colab": {
          "base_uri": "https://localhost:8080/"
        },
        "id": "kmoqzigayGL_",
        "outputId": "4ba1b747-a112-4e30-ebd0-01a8967b78b0"
      },
      "execution_count": null,
      "outputs": [
        {
          "output_type": "stream",
          "name": "stdout",
          "text": [
            "Das Verzeichnis  /content/drive/My Drive/Colab_Drive/ML_TH/Data_Input   existiert bereits\n",
            "Das Verzeichnis  /content/drive/My Drive/Colab_Drive/ML_TH/Temp   existiert bereits\n"
          ]
        }
      ]
    },
    {
      "cell_type": "code",
      "source": [
        "import numpy as np\n",
        "import pandas as pd\n",
        "import math\n",
        "import matplotlib.pyplot as plt\n",
        "import random\n",
        "\n",
        "anz_punkte = 40\n",
        "epochs = 100\n",
        "n = 0.001\n",
        "\n",
        "x = np.random.randn(anz_punkte, 2)/2\n",
        "for i in np.arange(anz_punkte): # Punkte werden in Quadrant 1&3 gelegt\n",
        "    #x[i] = np.random.randn(1,2)\n",
        "    if x[i,0]>0 and x[i,1]<0 or x[i,0]<0 and x[i,1]>0: x[i,0]=-x[i,0]\n",
        "#x = np.squeeze(np.asarray(x))\n",
        " \n",
        "unit_square_digonal_neg = -np.sqrt(2)/2\n",
        "w = (-np.sqrt(2)/2, -np.sqrt(2)/2)\n",
        "#w = np.full((anz_punkte, 2),unit_square_digonal_neg)\n",
        "#print(\"Das ist w[10,10]:\", w)\n",
        "#w = np.squeeze(np.asarray(w))\n",
        "\n",
        "b = 0\n",
        "u = 0.142\n",
        "d = 0.42\n",
        "y = np.full((anz_punkte,1),1.0) #anz_punkte Labels zu x zuordnen: Quadrant 3: -1; Q1: 1\n",
        "#y = np.squeeze(np.asarray(y))\n",
        "\n",
        "for j in np.arange(anz_punkte):\n",
        "  y[j] = -1 if (x[j,1] <= 0) else 1\n",
        "\n",
        "for i in np.arange(epochs):\n",
        "    for k in np.arange(anz_punkte):\n",
        "        u = (w*x[k]).sum() + b\n",
        "        y_ = -1 if (u <= 0) else 1\n",
        "        d = y[k]-y_\n",
        "        w = w + n*d*x[k]\n",
        "        w = w*(1/(np.linalg.norm(w)))\n",
        "\n",
        "print('d:', d.sum()/anz_punkte)\n",
        "print('w', w)\n",
        "print('Winkel von w:', math.degrees(np.arcsin(w[1])))\n",
        "plt.plot(x[:,0], x[:,1],'bo')\n",
        "\n",
        "line_m = np.tan(np.arcsin(w[1]) + np.pi/2)\n",
        "print('Steigungvon line:', line_m)\n",
        "line_x = np.linspace(-1.0,1.0,5)\n",
        "line_y = line_m*line_x\n",
        "plt.plot(line_x, line_y, '-g', label='point-separating-line')\n",
        "plt.ylim(-1.3,1.3)\n",
        "\n",
        "o = np.array([0, 0])\n",
        "plt.quiver(0, 0, w[0], w[1], color=['red'], angles='xy', scale_units='xy', scale=1)\n",
        "plt.grid()\n",
        "plt.show()"
      ],
      "metadata": {
        "colab": {
          "base_uri": "https://localhost:8080/",
          "height": 337
        },
        "id": "zZSVUZfwyWtY",
        "outputId": "9f77ba3d-76ce-4ed3-b340-df4d259cb346"
      },
      "execution_count": null,
      "outputs": [
        {
          "output_type": "stream",
          "name": "stdout",
          "text": [
            "d: 0.0\n",
            "w [ 0.79375706 -0.60823492]\n",
            "Winkel von w: -37.46198566080159\n",
            "Steigungvon line: 1.3050172420219976\n"
          ]
        },
        {
          "output_type": "display_data",
          "data": {
            "text/plain": [
              "<Figure size 432x288 with 1 Axes>"
            ],
            "image/png": "[encoded data removed]"
          },
          "metadata": {
            "needs_background": "light"
          }
        }
      ]
    }
  ]
}