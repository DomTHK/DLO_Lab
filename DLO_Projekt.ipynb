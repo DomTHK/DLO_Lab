{
  "nbformat": 4,
  "nbformat_minor": 0,
  "metadata": {
    "colab": {
      "name": "DLO-Projekt.ipynb",
      "provenance": [],
      "collapsed_sections": [],
      "authorship_tag": "ABX9TyMyLfDa8szNtw06BOc0c+Wv",
      "include_colab_link": true
    },
    "kernelspec": {
      "name": "python3",
      "display_name": "Python 3"
    },
    "language_info": {
      "name": "python"
    }
  },
  "cells": [
    {
      "cell_type": "markdown",
      "metadata": {
        "id": "view-in-github",
        "colab_type": "text"
      },
      "source": [
        "<a href=\"https://colab.research.google.com/github/DomTHK/DLO_Lab/blob/main/DLO_Projekt.ipynb\" target=\"_parent\"><img src=\"https://colab.research.google.com/assets/colab-badge.svg\" alt=\"Open In Colab\"/></a>"
      ]
    },
    {
      "cell_type": "code",
      "execution_count": 53,
      "metadata": {
        "id": "iO6v_3ep22Lb"
      },
      "outputs": [],
      "source": [
        "# https://drive.google.com/drive/folders/1hNFbb-Ksc9Qdyx0_CB7tTJFy7-UNwYwy?usp=sharing \n",
        "\n",
        "# Bildgröße 300x200 RGB\n",
        "\n",
        "from google.colab import drive\n",
        "import torchvision \n",
        "from torchvision import transforms\n",
        "\n",
        "from glob import glob\n",
        "\n",
        "import numpy as np\n",
        "import pandas as pd\n",
        "import matplotlib.pyplot as plt\n",
        "import seaborn as sns\n",
        "\n",
        "from tensorflow.keras.preprocessing.image import load_img, img_to_array, ImageDataGenerator\n",
        "\n"
      ]
    },
    {
      "cell_type": "code",
      "source": [
        "drive.mount(\"/content/drive\", force_remount=True)"
      ],
      "metadata": {
        "id": "QnHFd1D9Dg79"
      },
      "execution_count": null,
      "outputs": []
    },
    {
      "cell_type": "code",
      "source": [
        "# Config Feld\n",
        "path = f\"/content/drive/MyDrive/Colab Notebooks/data/*/*/*.png\""
      ],
      "metadata": {
        "id": "AK7eqCSGDh4x"
      },
      "execution_count": 49,
      "outputs": []
    },
    {
      "cell_type": "code",
      "source": [
        "all_files = glob(path, recursive = True)\n",
        "print(len(all_files) )\n",
        "assert len(all_files) == 2188, \"Der Datensatz ist nicht gleich 2188\""
      ],
      "metadata": {
        "colab": {
          "base_uri": "https://localhost:8080/"
        },
        "id": "FxrKOprq9F6c",
        "outputId": "663badd4-bb96-418d-ec59-fb8806a2574c"
      },
      "execution_count": 50,
      "outputs": [
        {
          "output_type": "stream",
          "name": "stdout",
          "text": [
            "2188\n"
          ]
        }
      ]
    },
    {
      "cell_type": "code",
      "source": [
        "images = []\n",
        "labels = []\n",
        "\n",
        "for path in all_files:\n",
        "    \n",
        "    img = load_img(path, target_size=(100,100))\n",
        "    img = img_to_array(img, dtype=np.uint8)\n",
        "    images.append(img)\n",
        "    \n",
        "    label = path.split(\"/\")[-2]\n",
        "    labels.append(label)\n"
      ],
      "metadata": {
        "id": "MXxPSmB17_bk"
      },
      "execution_count": null,
      "outputs": []
    }
  ]
}