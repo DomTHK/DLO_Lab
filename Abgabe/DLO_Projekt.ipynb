{
  "nbformat": 4,
  "nbformat_minor": 0,
  "metadata": {
    "colab": {
      "name": "DLO-Projekt.ipynb",
      "provenance": [],
      "collapsed_sections": [],
      "authorship_tag": "ABX9TyOnV4y0rELI7nzmlTX6i0qu",
      "include_colab_link": true
    },
    "kernelspec": {
      "name": "python3",
      "display_name": "Python 3"
    },
    "language_info": {
      "name": "python"
    }
  },
  "cells": [
    {
      "cell_type": "markdown",
      "metadata": {
        "id": "view-in-github",
        "colab_type": "text"
      },
      "source": [
        "<a href=\"https://colab.research.google.com/github/DomTHK/DLO_Lab/blob/main/Abgabe/DLO_Projekt.ipynb\" target=\"_parent\"><img src=\"https://colab.research.google.com/assets/colab-badge.svg\" alt=\"Open In Colab\"/></a>"
      ]
    },
    {
      "cell_type": "code",
      "execution_count": 16,
      "metadata": {
        "id": "iO6v_3ep22Lb"
      },
      "outputs": [],
      "source": [
        "# https://drive.google.com/drive/folders/1hNFbb-Ksc9Qdyx0_CB7tTJFy7-UNwYwy?usp=sharing \n",
        "\n",
        "# Bildgröße 300x200 RGB\n",
        "\n",
        "from google.colab import drive\n",
        "import torchvision \n",
        "from torchvision import transforms\n",
        "\n",
        "from timeit import default_timer as timer\n",
        "import numpy as np\n",
        "import matplotlib.pyplot as plt\n",
        "import seaborn as sns\n",
        "\n",
        "import matplotlib.pyplot as plt\n",
        "\n",
        "from torchsummary import summary\n",
        "\n",
        "import torch\n",
        "import torch.nn as nn\n",
        "from torch.optim import SGD\n",
        "from torch.utils.data import Dataset, random_split\n",
        "from torchvision import datasets, transforms\n"
      ]
    },
    {
      "cell_type": "code",
      "source": [
        "drive.mount(\"/content/drive\", force_remount=True)"
      ],
      "metadata": {
        "colab": {
          "base_uri": "https://localhost:8080/"
        },
        "id": "QnHFd1D9Dg79",
        "outputId": "a7cda70e-885a-4145-8e47-739f05a5e32a"
      },
      "execution_count": 17,
      "outputs": [
        {
          "output_type": "stream",
          "name": "stdout",
          "text": [
            "Mounted at /content/drive\n"
          ]
        }
      ]
    },
    {
      "cell_type": "code",
      "source": [
        "# Config Feld\n",
        "path = f\"/content/drive/MyDrive/Colab Notebooks/data\"\n",
        "ModelPath = f'/content/drive/MyDrive/Colab Notebooks/models/pythorch.model'\n",
        "device = \"cuda\" if torch.cuda.is_available() else \"cpu\"\n",
        "TrainingMode = True\n",
        "\n",
        "valid_size = 0.1\n",
        "test_size = 0.2\n",
        "\n",
        "epochs = 50\n",
        "\n",
        "image_width = 75\n",
        "image_height = 50"
      ],
      "metadata": {
        "id": "AK7eqCSGDh4x"
      },
      "execution_count": 18,
      "outputs": []
    },
    {
      "cell_type": "code",
      "source": [
        "#  transforms.CenterCrop(224),\n",
        "transform = transforms.Compose([transforms.Resize((image_height, image_width)),\n",
        "                                \n",
        "                                transforms.ToTensor()])\n",
        "\n",
        "dataset = datasets.ImageFolder(path, transform=transform)"
      ],
      "metadata": {
        "id": "82OKg_XvLbtj"
      },
      "execution_count": 19,
      "outputs": []
    },
    {
      "cell_type": "code",
      "source": [
        "dataset[0][0][2]\n",
        "plt.imshow(dataset[0][0][0])\n",
        "plt.show()"
      ],
      "metadata": {
        "colab": {
          "base_uri": "https://localhost:8080/",
          "height": 267
        },
        "id": "lj33ceFs_smg",
        "outputId": "fdffaeed-215b-4056-810b-f2835857dba9"
      },
      "execution_count": 20,
      "outputs": [
        {
          "output_type": "display_data",
          "data": {
            "text/plain": [
              "<Figure size 432x288 with 1 Axes>"
            ],
            "image/png": "[encoded data removed]"
          },
          "metadata": {
            "needs_background": "light"
          }
        }
      ]
    },
    {
      "cell_type": "code",
      "source": [
        "# https://discuss.pytorch.org/t/how-to-use-imagefolder-with-list-of-images-for-train-and-test-sets/120247\n",
        "# trainset = torch.utils.data.Subset(dataset_train, train_indices)\n",
        "# valset = torch.utils.data.Subset(dataset_val, val_indices)\n",
        "def get_data(): \n",
        "  n_val = int(np.floor(valid_size * len(dataset)))\n",
        "  n_test = int(np.floor(test_size * len(dataset)))\n",
        "  n_train = len(dataset) - n_val - n_test\n",
        "\n",
        "  train_ds, val_ds, test_ds = random_split(dataset, [n_train, n_val, n_test])\n",
        "  train_dl = torch.utils.data.DataLoader(train_ds, batch_size=32, shuffle=True)\n",
        "\n",
        "  valid_dl = torch.utils.data.DataLoader(val_ds, batch_size=32, shuffle=True)\n",
        "  test_dl = torch.utils.data.DataLoader(test_ds, batch_size=32, shuffle=True)\n",
        "  return train_dl, test_dl, valid_dl"
      ],
      "metadata": {
        "id": "A2JECJ2VTFr2"
      },
      "execution_count": 21,
      "outputs": []
    },
    {
      "cell_type": "code",
      "source": [
        "@torch.no_grad()\n",
        "def accuracy(x, y, model):\n",
        "    with torch.no_grad():\n",
        "        prediction = model(x)\n",
        "    max_values, argmaxes = prediction.max(-1)\n",
        "    is_correct = argmaxes == y\n",
        "    return is_correct.cpu().numpy().tolist()"
      ],
      "metadata": {
        "id": "Fr2epBmZOsTr"
      },
      "execution_count": 22,
      "outputs": []
    },
    {
      "cell_type": "code",
      "source": [
        "@torch.no_grad()\n",
        "def loss(x, y, model):\n",
        "    prediction = model(x)\n",
        "    loss = loss_fn(prediction, y)\n",
        "    return loss.item()"
      ],
      "metadata": {
        "id": "1h9VGc6TOsCT"
      },
      "execution_count": 23,
      "outputs": []
    },
    {
      "cell_type": "code",
      "source": [
        "class Net(nn.Module):\n",
        "    def __init__(self):\n",
        "        super().__init__()\n",
        "        self.conv1 = nn.Conv2d(3, 16, kernel_size=3, padding=1)\n",
        "        self.act1 = nn.Tanh()\n",
        "        self.pool1 = nn.MaxPool2d(2) # halbiert um 2\n",
        "        self.conv2 = nn.Conv2d(16, 8, kernel_size=3, padding=1)\n",
        "        self.act2 = nn.Tanh()\n",
        "        self.pool2 = nn.MaxPool2d(2) # halbiert um 2\n",
        "        self.fc1 = nn.Linear(8 * 18 * 12, 32)\n",
        "        self.act3 = nn.Tanh()\n",
        "        self.fc2 = nn.Linear(32, 3)\n",
        "\n",
        "    def forward(self, x):\n",
        "        out = self.pool1(self.act1(self.conv1(x)))\n",
        "        out = self.pool2(self.act2(self.conv2(out)))\n",
        "        out = out.view(-1, 8 * 18 * 12) # <1>\n",
        "        out = self.act3(self.fc1(out))\n",
        "        out = self.fc2(out)\n",
        "        return out"
      ],
      "metadata": {
        "id": "sFnwWJldSB1H"
      },
      "execution_count": 24,
      "outputs": []
    },
    {
      "cell_type": "code",
      "source": [
        "def get_model():\n",
        "    model = Net().to(device)\n",
        "    loss_fn = nn.CrossEntropyLoss()  # Kreuzentropie\n",
        "    optimizer = SGD(model.parameters(), lr=1e-1)\n",
        "    return model, loss_fn, optimizer"
      ],
      "metadata": {
        "id": "2g1_9v9COOZG"
      },
      "execution_count": 25,
      "outputs": []
    },
    {
      "cell_type": "code",
      "source": [
        "def train_batch(x, y, model, opt, loss_fn):\n",
        "    model.train()\n",
        "    prediction = model(x)\n",
        "    batch_loss = loss_fn(prediction, y)\n",
        "    batch_loss.backward()\n",
        "    optimizer.step()\n",
        "    optimizer.zero_grad()\n",
        "    return batch_loss.item()"
      ],
      "metadata": {
        "id": "an8Tp-JPPzEh"
      },
      "execution_count": 26,
      "outputs": []
    },
    {
      "cell_type": "code",
      "source": [
        "def is_early_stopping(val_accuracies, amount_epoch, threshold=0.01):\n",
        "\n",
        "  # Wenn man mindestens <amount_epoch> vergleichen möchte aber noch nicht \n",
        "  # so viele epochen durchlaufen hat, kann noch kein Early Stopping stattfinden\n",
        "  if len(val_accuracies) < amount_epoch: \n",
        "    return False\n",
        "\n",
        "  # nur die letzten <amount_epoch> Elemente übernehmen\n",
        "  epochs = val_accuracies[-amount_epoch:]\n",
        "    \n",
        "\n",
        "  # Betragliche differenz zwischen den Werten für index i und i+1 bilden\n",
        "  abs_differences  = []\n",
        "  for i in range(0 , len(epochs) -2):\n",
        "    abs_differences.append(abs(epochs[i] - epochs[i + 1]))\n",
        "\n",
        "  # Wenn alle Differenzen in der Liste kleiner sind als der Schwellwert ist Early Stopping!\n",
        "  return all(x < threshold for x in abs_differences)\n"
      ],
      "metadata": {
        "id": "PoCkjxT7qKaZ"
      },
      "execution_count": 27,
      "outputs": []
    },
    {
      "cell_type": "code",
      "source": [
        "# Test Early stopping\n",
        "\n",
        "assert is_early_stopping([0.1, 0.2, 0.3], 4, 0.1) == False, \"Sollte False sein, da 0.1 < 0.1 false ist\"\n",
        "assert is_early_stopping([0.1, 0.1, 0.2, 0.3], 4, 0.11) == True, \"Sollte True sein, da 0.1 < 0.11 True ist\"\n",
        "assert is_early_stopping([0.1, 0.2, 0.3, 0.5, 0.7, 0.9], 4, 0.11) == False, \"Sollte False sein, da die letzten drei Größere differenzen haben als 0.11\""
      ],
      "metadata": {
        "id": "aPp5jG4awg1L"
      },
      "execution_count": 28,
      "outputs": []
    },
    {
      "cell_type": "code",
      "source": [
        "model, loss_fn, optimizer = get_model()"
      ],
      "metadata": {
        "id": "AwBLvp6CP-Z8"
      },
      "execution_count": 29,
      "outputs": []
    },
    {
      "cell_type": "code",
      "source": [
        "# 3 - R, G, B \n",
        "# 224 - Width \n",
        "# 224 - Height\n",
        "summary(Net(), (3, image_width, image_height))\n",
        "# Output Shape\n",
        "# [-1, 16, 224, 224] \n",
        "# First Index: Batch-Size (-1 means it doesn't matter)"
      ],
      "metadata": {
        "colab": {
          "base_uri": "https://localhost:8080/"
        },
        "id": "L19rLzgotmx1",
        "outputId": "fe6ec18b-09cd-46e4-aec1-1d4e508dbc1a"
      },
      "execution_count": 30,
      "outputs": [
        {
          "output_type": "stream",
          "name": "stdout",
          "text": [
            "----------------------------------------------------------------\n",
            "        Layer (type)               Output Shape         Param #\n",
            "================================================================\n",
            "            Conv2d-1           [-1, 16, 75, 50]             448\n",
            "              Tanh-2           [-1, 16, 75, 50]               0\n",
            "         MaxPool2d-3           [-1, 16, 37, 25]               0\n",
            "            Conv2d-4            [-1, 8, 37, 25]           1,160\n",
            "              Tanh-5            [-1, 8, 37, 25]               0\n",
            "         MaxPool2d-6            [-1, 8, 18, 12]               0\n",
            "            Linear-7                   [-1, 32]          55,328\n",
            "              Tanh-8                   [-1, 32]               0\n",
            "            Linear-9                    [-1, 3]              99\n",
            "================================================================\n",
            "Total params: 57,035\n",
            "Trainable params: 57,035\n",
            "Non-trainable params: 0\n",
            "----------------------------------------------------------------\n",
            "Input size (MB): 0.04\n",
            "Forward/backward pass size (MB): 1.16\n",
            "Params size (MB): 0.22\n",
            "Estimated Total Size (MB): 1.42\n",
            "----------------------------------------------------------------\n"
          ]
        }
      ]
    },
    {
      "cell_type": "code",
      "source": [
        "train_dl, test_dl, val_dl = get_data()"
      ],
      "metadata": {
        "id": "4kQ7V2XiWTIe"
      },
      "execution_count": 31,
      "outputs": []
    },
    {
      "cell_type": "code",
      "source": [
        "print('Starting training...')\n",
        "\n",
        "time0 = timer()\n",
        "\n",
        "\n",
        "\n",
        "arrPlotX = []\n",
        "train_losses, train_accuracies = [], []\n",
        "val_losses, val_accuracies = [], []\n",
        "epoch_time = []\n",
        "\n",
        "if TrainingMode:\n",
        "    for epoch in range(epochs):\n",
        "        time1 = timer()\n",
        "        train_epoch_losses, train_epoch_accuracies = [], []\n",
        "\n",
        "        for ix, batch in enumerate(iter(train_dl)):\n",
        "            x, y = batch\n",
        "            \n",
        "            batch_loss = train_batch(x, y, model, optimizer, loss_fn)  # Mini-Batch\n",
        "            train_epoch_losses.append(batch_loss)\n",
        "        train_epoch_loss = np.array(train_epoch_losses).mean()\n",
        "\n",
        "        for ix, batch in enumerate(iter(train_dl)):\n",
        "            x, y = batch\n",
        "            is_correct = accuracy(x, y, model)\n",
        "            train_epoch_accuracies.extend(is_correct)\n",
        "        train_epoch_accuracy = np.mean(train_epoch_accuracies)\n",
        "\n",
        "        val_is_correct = None\n",
        "        validation_loss = None\n",
        "\n",
        "        for ix, batch in enumerate(iter(val_dl)):\n",
        "            x, y = batch\n",
        "            val_is_correct = accuracy(x, y, model)\n",
        "            validation_loss = loss(x, y, model)\n",
        "\n",
        "        val_epoch_accuracy = np.mean(val_is_correct)\n",
        "        arrPlotX.append(epoch)\n",
        "        train_losses.append(train_epoch_loss)\n",
        "        train_accuracies.append(train_epoch_accuracy)\n",
        "        val_losses.append(validation_loss)\n",
        "        val_accuracies.append(val_epoch_accuracy)\n",
        "\n",
        "        time2 = timer() - time1\n",
        "        epoch_time.append(time2)\n",
        "        print(f\"epoch: {epoch}  train_acc: {100 * train_epoch_accuracy:.2f}%  val_acc: {100 * val_epoch_accuracy:.2f}%  time: {time2 / 1E6} ms\")\n",
        "        # Early stopping\n",
        "        if is_early_stopping(val_accuracies, 5, 0.01):\n",
        "            print(f'Early Stopping...')\n",
        "            break\n",
        "\n",
        "        \n",
        "\n",
        "    torch.save(model.state_dict(), ModelPath)\n",
        "\n",
        "    plt.plot(arrPlotX, train_accuracies)\n",
        "    plt.plot(arrPlotX, val_accuracies)\n",
        "    plt.savefig(\"accuracies.png\")\n",
        "else:\n",
        "    val_is_correct = None\n",
        "    for ix, batch in enumerate(iter(test_dl)):\n",
        "        x, y = batch\n",
        "        val_is_correct = accuracy(x, y, model)\n",
        "        validation_loss = loss(x, y, model)\n",
        "\n",
        "    for ix, var in enumerate(iter(val_is_correct)):\n",
        "        if var is False:\n",
        "            print(test_dl.dataset.__getitem__(ix))\n",
        "    val_epoch_accuracy = np.mean(val_is_correct)\n",
        "    print(f\"test_acc: {100 * val_epoch_accuracy:.2f}%\")\n"
      ],
      "metadata": {
        "colab": {
          "base_uri": "https://localhost:8080/"
        },
        "id": "5jYt2fTSPVSw",
        "outputId": "07659f86-f1f5-4d04-fbb7-808fb541eaa5"
      },
      "execution_count": null,
      "outputs": [
        {
          "output_type": "stream",
          "name": "stdout",
          "text": [
            "Starting training...\n",
            "epoch: 0  train_acc: 92.30%  val_acc: 100.00%  time: 1.991966710899999e-05 ms\n",
            "epoch: 1  train_acc: 93.93%  val_acc: 92.31%  time: 1.9133242082000036e-05 ms\n",
            "epoch: 2  train_acc: 97.06%  val_acc: 92.31%  time: 1.8677053752999997e-05 ms\n",
            "epoch: 3  train_acc: 97.33%  val_acc: 96.15%  time: 1.8911219492999977e-05 ms\n",
            "epoch: 4  train_acc: 98.63%  val_acc: 96.15%  time: 1.908005256599995e-05 ms\n",
            "epoch: 5  train_acc: 98.50%  val_acc: 96.15%  time: 1.866453936200003e-05 ms\n",
            "epoch: 6  train_acc: 99.22%  val_acc: 92.31%  time: 1.871700139699999e-05 ms\n"
          ]
        }
      ]
    },
    {
      "cell_type": "code",
      "source": [
        "val_is_correct = None\n",
        "for ix, batch in enumerate(iter(test_dl)):\n",
        "    x, y = batch\n",
        "    val_is_correct = accuracy(x, y, model)\n",
        "    validation_loss = loss(x, y, model)\n",
        "\n",
        "for ix, var in enumerate(iter(val_is_correct)):\n",
        "    if var is False:\n",
        "        print(test_dl.dataset.__getitem__(ix))\n",
        "val_epoch_accuracy = np.mean(val_is_correct)\n",
        "print(f\"test_acc: {100 * val_epoch_accuracy:.2f}%\")"
      ],
      "metadata": {
        "id": "rkGk1lUysqSQ"
      },
      "execution_count": null,
      "outputs": []
    }
  ]
}