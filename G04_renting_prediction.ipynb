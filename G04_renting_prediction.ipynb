{
  "nbformat": 4,
  "nbformat_minor": 0,
  "metadata": {
    "colab": {
      "name": "G04_renting_prediction.ipynb",
      "provenance": [],
      "collapsed_sections": [],
      "authorship_tag": "ABX9TyPIkB7Tym+yZyPybv3TFxZj",
      "include_colab_link": true
    },
    "kernelspec": {
      "name": "python3",
      "display_name": "Python 3"
    },
    "language_info": {
      "name": "python"
    }
  },
  "cells": [
    {
      "cell_type": "markdown",
      "metadata": {
        "id": "view-in-github",
        "colab_type": "text"
      },
      "source": [
        "<a href=\"https://colab.research.google.com/github/DomTHK/DLO_Lab/blob/main/G04_renting_prediction.ipynb\" target=\"_parent\"><img src=\"https://colab.research.google.com/assets/colab-badge.svg\" alt=\"Open In Colab\"/></a>"
      ]
    },
    {
      "cell_type": "markdown",
      "source": [
        "Next Meeting: 05. (short) and 12. May 2022 7 p.m."
      ],
      "metadata": {
        "id": "1nDWPLVOQZOm"
      }
    },
    {
      "cell_type": "markdown",
      "source": [
        "#Preparation\n",
        "1st meeting: Group 04 - 17.05.2022- 14:45\n",
        "2nd meeting: 2022-05-31 - 14:45\n",
        "Attention\n",
        "Please arrive one Timeslot earlier!\n",
        "\n",
        "Please prepare a presentation (max 5 Minutes) answering the following questions:\n",
        "\n",
        "What is your topic?\n",
        "What have you done so far?\n",
        "What is still open?\n",
        "Which group member did which part?\n",
        "Do you have further questions?\n",
        "Please prepare a first run with _preprocessing_, *model creation* and *evaluation*.\n",
        "\n",
        "Create a github or gitlab group where I can follow your progress.\n",
        "\n"
      ],
      "metadata": {
        "id": "aqi_gWnlEyN2"
      }
    },
    {
      "cell_type": "markdown",
      "source": [
        "#Topic 3 - Predict rents for Cologne - Focus: Feature Importance\n",
        "Dataset: https://www.kaggle.com/corrieaar/apartment-rental-offers-in-germany\n",
        "\n",
        "The dataset contains a collection of immoscout24 data for rents in Germany.\n",
        "\n",
        "Task:\n",
        "\n",
        "First, reduce the data to the urban area of Cologne. Perform the usual steps in a machine learning project. Create a predictive model that predicts the rent as well as possible for the given data.\n",
        "\n",
        "Also, create visualizations of interesting relationships.\n",
        "\n",
        "Compare different methods for incorporating non-metric features and different algorithms. Investigate which features have a measurable impact on rent."
      ],
      "metadata": {
        "id": "MTQiUHEHGOXG"
      }
    },
    {
      "cell_type": "markdown",
      "source": [
        "2. End-to-End Machine Learning Project\n",
        "Working with Real Data \n",
        "Look at the Big Picture \n",
        "Frame the Problem \n",
        "Select a Performance Measure \n",
        "Check the Assumptions \n",
        "Get the Data\n",
        "Create the Workspace \n",
        "Download the Data \n",
        "Take a Quick Look at the Data Structure\n",
        "Create a Test Set\n",
        "Discover and Visualize the Data to Gain Insights\n",
        "Visualizing Geographical Data\n",
        "Looking for Correlations\n",
        "Experimenting with Attribute Combinations\n",
        "Prepare the Data for Machine Learning Algorithms\n",
        "Data Cleaning\n",
        "Handling Text and Categorical Attributes\n",
        "Custom Transformers\n",
        "Feature Scaling\n",
        "Transformation Pipelines\n",
        "Select and Train a Model\n",
        "Training and Evaluating on the Training Set\n",
        "Better Evaluation Using Cross-Validation\n",
        "Fine-Tune Your Model\n",
        "Grid Search\n",
        "Randomized Search\n",
        "Ensemble Methods\n",
        "Analyze the Best Models and Their Errors\n",
        "Evaluate Your System on the Test Set \n",
        "Launch, Monitor, and Maintain Your System\n",
        "Try It Out!\n",
        "Exercises"
      ],
      "metadata": {
        "id": "ZFAI6XJWJT6B"
      }
    },
    {
      "cell_type": "code",
      "execution_count": null,
      "metadata": {
        "id": "qzEHFg8zExTN"
      },
      "outputs": [],
      "source": [
        "#Possible tasks:\n",
        "#Convert numbers to readable numbers\n",
        "#Get an overview ->Barplot, Boxplot, Histogram, Correlation Matrix, Scatter plot\n",
        "#Convert Categorical variables to numeric using OneHotEncoder, Replace missing values\n",
        "#Train-Test-Split, Feature Scaling\n",
        "#Model-selection, training, evaluation"
      ]
    }
  ]
}